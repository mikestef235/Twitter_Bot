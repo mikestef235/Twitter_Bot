{
 "cells": [
  {
   "cell_type": "markdown",
   "metadata": {},
   "source": [
    "Below is a script to split the data for a sequnce to sequence model. \"From\" indicates the original comment, \"To\" indicates the response to that comment."
   ]
  },
  {
   "cell_type": "code",
   "execution_count": 1,
   "metadata": {},
   "outputs": [],
   "source": [
    "import sqlite3\n",
    "import pandas as pd"
   ]
  },
  {
   "cell_type": "code",
   "execution_count": 3,
   "metadata": {},
   "outputs": [
    {
     "name": "stdout",
     "output_type": "stream",
     "text": [
      "100000 rows completed\n",
      "200000 rows completed\n",
      "300000 rows completed\n",
      "400000 rows completed\n",
      "500000 rows completed\n",
      "600000 rows completed\n",
      "700000 rows completed\n",
      "800000 rows completed\n",
      "900000 rows completed\n",
      "1000000 rows completed\n",
      "1100000 rows completed\n",
      "1200000 rows completed\n",
      "1300000 rows completed\n",
      "1400000 rows completed\n",
      "1500000 rows completed\n",
      "1600000 rows completed\n",
      "1700000 rows completed\n",
      "1800000 rows completed\n",
      "1900000 rows completed\n",
      "2000000 rows completed\n",
      "2100000 rows completed\n",
      "2200000 rows completed\n",
      "2300000 rows completed\n",
      "2400000 rows completed\n",
      "2500000 rows completed\n",
      "2600000 rows completed\n",
      "2700000 rows completed\n",
      "2800000 rows completed\n",
      "2900000 rows completed\n",
      "3000000 rows completed\n",
      "3100000 rows completed\n",
      "3200000 rows completed\n",
      "3300000 rows completed\n"
     ]
    }
   ],
   "source": [
    "connection = sqlite3.connect('C:/Users/mikes/Documents/ChatBot/iPython_Noteboooks/2015-05.db')\n",
    "c = connection.cursor()\n",
    "limit = 5000\n",
    "last_unix = 0\n",
    "cur_length = limit\n",
    "counter = 0\n",
    "test_done = False\n",
    "\n",
    "while cur_length == limit:\n",
    "    df = pd.read_sql(\"SELECT * FROM parent_reply WHERE unix > {} AND parent NOT NULL AND score > 0 ORDER BY unix ASC LIMIT {}\".format(last_unix, limit), connection)\n",
    "    last_unix = df.tail(1)['unix'].values[0]\n",
    "    cur_length = len(df)\n",
    "    if not test_done:\n",
    "        with open('test.from', 'a', encoding='utf8') as f:\n",
    "            for content in df['parent'].values:\n",
    "                f.write(content + '\\n')\n",
    "        with open('test.to', 'a', encoding='utf8') as f:\n",
    "            for content in df['comment'].values:\n",
    "                f.write(content + '\\n')\n",
    "                \n",
    "        test_done = True\n",
    "    else: \n",
    "        with open('train.from', 'a', encoding='utf8') as f:\n",
    "            for content in df['parent'].values:\n",
    "                f.write(content + '\\n')\n",
    "        with open('train.to', 'a', encoding='utf8') as f:\n",
    "            for content in df['comment'].values:\n",
    "                f.write(content + '\\n')\n",
    "                \n",
    "    counter += 1\n",
    "    if counter % 20 == 0:\n",
    "        print(counter*limit, 'rows completed')"
   ]
  }
 ],
 "metadata": {
  "kernelspec": {
   "display_name": "Python 3",
   "language": "python",
   "name": "python3"
  },
  "language_info": {
   "codemirror_mode": {
    "name": "ipython",
    "version": 3
   },
   "file_extension": ".py",
   "mimetype": "text/x-python",
   "name": "python",
   "nbconvert_exporter": "python",
   "pygments_lexer": "ipython3",
   "version": "3.6.4"
  }
 },
 "nbformat": 4,
 "nbformat_minor": 2
}
